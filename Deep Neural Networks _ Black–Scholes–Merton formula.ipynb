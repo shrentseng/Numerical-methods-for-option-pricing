{
 "cells": [
  {
   "cell_type": "code",
   "execution_count": 214,
   "metadata": {},
   "outputs": [],
   "source": [
    "import numpy as np\n",
    "from scipy.stats import norm\n",
    "import tensorflow as tf\n",
    "import matplotlib.pyplot as plt\n",
    "# Importing the required Keras modules containing model and layers\n",
    "from keras.models import Sequential\n",
    "from keras.layers import Dense, Conv2D, Dropout, Flatten, MaxPooling2D\n",
    "# For 3D plot\n",
    "from mpl_toolkits.mplot3d import Axes3D\n",
    "np.random.seed(0)"
   ]
  },
  {
   "cell_type": "code",
   "execution_count": 221,
   "metadata": {},
   "outputs": [],
   "source": [
    "def BSM_call_pricing(inputs):\n",
    "    # inputs should look like [S_0, K, r, T, sigma]\n",
    "    d1 = (np.log(inputs[0] / inputs[1]) + (inputs[2] + 0.5 * inputs[4]**2) * inputs[3]) / (inputs[4] * np.sqrt(inputs[3]))\n",
    "    d2 = (np.log(inputs[0] / inputs[1]) + (inputs[2] - 0.5 * inputs[4]**2) * inputs[3]) / (inputs[4] * np.sqrt(inputs[3]))\n",
    "    return inputs[0] * norm.cdf(d1) - inputs[1] * np.exp(-inputs[2] * inputs[3]) * norm.cdf(d2)"
   ]
  },
  {
   "cell_type": "code",
   "execution_count": 295,
   "metadata": {},
   "outputs": [],
   "source": [
    "# generating data\n",
    "M = 5500\n",
    "S_0s = np.random.uniform(20, 200, M)\n",
    "Ks = np.random.uniform(20, 200, M)\n",
    "rs = np.random.uniform(0, 0, M)\n",
    "Ts = np.random.uniform(1, 1, M)\n",
    "sigmas = np.random.uniform(0.3, 0.3, M)\n",
    "x_data = np.column_stack((S_0s, Ks, rs, Ts, sigmas))\n",
    "y_data = np.zeros(M)\n",
    "for i in range(M):\n",
    "    y_data[i] = BSM_call_pricing(x_data[i])\n",
    "x_train = x_data[:5000]\n",
    "y_train = y_data[:5000]\n",
    "x_test = x_data[5000:]\n",
    "y_test = y_data[5000:]"
   ]
  },
  {
   "cell_type": "code",
   "execution_count": 306,
   "metadata": {},
   "outputs": [],
   "source": [
    "%matplotlib qt\n",
    "plt.rcParams['figure.figsize'] = (4, 3)\n",
    "plt.rcParams['figure.dpi'] = 150\n",
    "\n",
    "fig = plt.figure(figsize =(16, 10))\n",
    "ax = plt.axes(projection='3d')\n",
    "my_cmap = plt.get_cmap('hot')\n",
    "ax.plot_trisurf(x_train[:,0], x_train[:,1], y_train, linewidth=0.1, antialiased=True, cmap = my_cmap)\n",
    "# Adding labels\n",
    "ax.set_xlabel('Stock price at time 0', fontweight ='bold') \n",
    "ax.set_ylabel('Strike price', fontweight ='bold') \n",
    "ax.set_zlabel('Options price', fontweight ='bold')\n",
    "plt.show()"
   ]
  },
  {
   "cell_type": "code",
   "execution_count": 297,
   "metadata": {},
   "outputs": [],
   "source": [
    "# Sequential model\n",
    "model = Sequential()\n",
    "\n",
    "layer1 = Dense(5000, input_shape = (5,), activation = tf.nn.relu, use_bias = True, \n",
    "               kernel_initializer='random_uniform')\n",
    "layer1.trainable = True\n",
    "\n",
    "model.add(layer1)\n",
    "\n",
    "layer2 = Dense(1, activation = None, use_bias = True, kernel_initializer='random_uniform')\n",
    "layer2.trainable = True\n",
    "\n",
    "model.add(layer2)"
   ]
  },
  {
   "cell_type": "code",
   "execution_count": 298,
   "metadata": {},
   "outputs": [
    {
     "name": "stdout",
     "output_type": "stream",
     "text": [
      "Epoch 1/30\n",
      "71/71 - 1s - loss: 233.0650 - val_loss: 1.4216\n",
      "Epoch 2/30\n",
      "71/71 - 0s - loss: 0.3897 - val_loss: 0.0703\n",
      "Epoch 3/30\n",
      "71/71 - 0s - loss: 0.0593 - val_loss: 0.0387\n",
      "Epoch 4/30\n",
      "71/71 - 0s - loss: 0.0308 - val_loss: 0.0238\n",
      "Epoch 5/30\n",
      "71/71 - 0s - loss: 0.0172 - val_loss: 0.0119\n",
      "Epoch 6/30\n",
      "71/71 - 0s - loss: 0.0094 - val_loss: 0.0072\n",
      "Epoch 7/30\n",
      "71/71 - 0s - loss: 0.0056 - val_loss: 0.0048\n",
      "Epoch 8/30\n",
      "71/71 - 0s - loss: 0.0036 - val_loss: 0.0033\n",
      "Epoch 9/30\n",
      "71/71 - 0s - loss: 0.0022 - val_loss: 0.0020\n",
      "Epoch 10/30\n",
      "71/71 - 0s - loss: 0.0014 - val_loss: 0.0015\n",
      "Epoch 11/30\n",
      "71/71 - 0s - loss: 0.0011 - val_loss: 0.0012\n",
      "Epoch 12/30\n",
      "71/71 - 0s - loss: 7.7198e-04 - val_loss: 9.5758e-04\n",
      "Epoch 13/30\n",
      "71/71 - 0s - loss: 5.6616e-04 - val_loss: 7.5907e-04\n",
      "Epoch 14/30\n",
      "71/71 - 0s - loss: 4.8340e-04 - val_loss: 5.9203e-04\n",
      "Epoch 15/30\n",
      "71/71 - 0s - loss: 3.8791e-04 - val_loss: 5.6070e-04\n",
      "Epoch 16/30\n",
      "71/71 - 0s - loss: 3.3630e-04 - val_loss: 4.6470e-04\n",
      "Epoch 17/30\n",
      "71/71 - 0s - loss: 3.3368e-04 - val_loss: 4.0054e-04\n",
      "Epoch 18/30\n",
      "71/71 - 0s - loss: 2.7929e-04 - val_loss: 3.9027e-04\n",
      "Epoch 19/30\n",
      "71/71 - 0s - loss: 3.4206e-04 - val_loss: 3.0317e-04\n",
      "Epoch 20/30\n",
      "71/71 - 0s - loss: 2.7568e-04 - val_loss: 4.4242e-04\n",
      "Epoch 21/30\n",
      "71/71 - 0s - loss: 2.0640e-04 - val_loss: 2.6010e-04\n",
      "Epoch 22/30\n",
      "71/71 - 0s - loss: 2.0767e-04 - val_loss: 2.2749e-04\n",
      "Epoch 23/30\n",
      "71/71 - 0s - loss: 1.8783e-04 - val_loss: 2.6304e-04\n",
      "Epoch 24/30\n",
      "71/71 - 0s - loss: 2.0674e-04 - val_loss: 3.4029e-04\n",
      "Epoch 25/30\n",
      "71/71 - 0s - loss: 1.6253e-04 - val_loss: 1.8567e-04\n",
      "Epoch 26/30\n",
      "71/71 - 0s - loss: 1.8603e-04 - val_loss: 1.9554e-04\n",
      "Epoch 27/30\n",
      "71/71 - 0s - loss: 1.0336e-04 - val_loss: 1.6731e-04\n",
      "Epoch 28/30\n",
      "71/71 - 0s - loss: 1.4236e-04 - val_loss: 2.1683e-04\n",
      "Epoch 29/30\n",
      "71/71 - 0s - loss: 8.4930e-05 - val_loss: 1.6090e-04\n",
      "Epoch 30/30\n",
      "71/71 - 0s - loss: 1.7384e-04 - val_loss: 1.2312e-04\n"
     ]
    },
    {
     "data": {
      "text/plain": [
       "<keras.callbacks.History at 0x158eecb2700>"
      ]
     },
     "execution_count": 298,
     "metadata": {},
     "output_type": "execute_result"
    }
   ],
   "source": [
    "# Training\n",
    "model.compile(optimizer='adam', loss='mean_squared_error')\n",
    "model.fit(x_train, y_train, validation_split = 0.1, epochs = 30, batch_size = 64, verbose = 2)"
   ]
  },
  {
   "cell_type": "code",
   "execution_count": 307,
   "metadata": {},
   "outputs": [],
   "source": [
    "fig = plt.figure(figsize =(16, 10))\n",
    "ax = plt.axes(projection='3d')\n",
    "my_cmap = plt.get_cmap('hot')\n",
    "ax.plot_trisurf(x_test[:,0], x_test[:,1], model.predict(x_test).flatten(), linewidth=0.1, antialiased=True, cmap = my_cmap)\n",
    "# Adding labels\n",
    "ax.set_xlabel('Stock price at time 0', fontweight ='bold') \n",
    "ax.set_ylabel('Strike price', fontweight ='bold') \n",
    "ax.set_zlabel('Options price', fontweight ='bold')\n",
    "plt.show()"
   ]
  },
  {
   "cell_type": "code",
   "execution_count": 331,
   "metadata": {},
   "outputs": [],
   "source": [
    "# generating data\n",
    "M = 21000\n",
    "S_0s = np.random.uniform(20, 100, M)\n",
    "Ks = np.random.uniform(20, 100, M)\n",
    "rs = np.random.uniform(0, 0.03, M)\n",
    "Ts = np.random.uniform(1, 10, M)\n",
    "sigmas = np.random.uniform(0.2, 0.6, M)\n",
    "x_data2 = np.column_stack((S_0s, Ks, rs, Ts, sigmas))\n",
    "y_data2 = np.zeros(M)\n",
    "for i in range(M):\n",
    "    y_data2[i] = BSM_call_pricing(x_data2[i])\n",
    "x_train2 = x_data2[:20000]\n",
    "y_train2 = y_data2[:20000]\n",
    "x_test2 = x_data2[20000:]\n",
    "y_test2 = y_data2[20000:]\n",
    "\n",
    "\n",
    "\n",
    "\n",
    "\n",
    "\n"
   ]
  },
  {
   "cell_type": "code",
   "execution_count": 332,
   "metadata": {},
   "outputs": [],
   "source": [
    "# Sequential model\n",
    "model2 = Sequential()\n",
    "\n",
    "layer1 = Dense(10000, input_shape = (5,), activation = tf.nn.relu, use_bias = True, \n",
    "               kernel_initializer='random_uniform')\n",
    "layer1.trainable = True\n",
    "\n",
    "model2.add(layer1)\n",
    "\n",
    "layer2 = Dense(1, activation = None, use_bias = True, kernel_initializer='random_uniform')\n",
    "layer2.trainable = True\n",
    "\n",
    "model2.add(layer2)"
   ]
  },
  {
   "cell_type": "code",
   "execution_count": 333,
   "metadata": {},
   "outputs": [
    {
     "name": "stdout",
     "output_type": "stream",
     "text": [
      "Epoch 1/60\n",
      "563/563 - 2s - loss: 37.2289 - val_loss: 16.4292\n",
      "Epoch 2/60\n",
      "563/563 - 1s - loss: 15.4125 - val_loss: 7.8983\n",
      "Epoch 3/60\n",
      "563/563 - 1s - loss: 10.3391 - val_loss: 6.2986\n",
      "Epoch 4/60\n",
      "563/563 - 2s - loss: 8.5343 - val_loss: 5.1956\n",
      "Epoch 5/60\n",
      "563/563 - 1s - loss: 7.0764 - val_loss: 6.6565\n",
      "Epoch 6/60\n",
      "563/563 - 1s - loss: 6.8516 - val_loss: 4.2545\n",
      "Epoch 7/60\n",
      "563/563 - 1s - loss: 5.7501 - val_loss: 9.2909\n",
      "Epoch 8/60\n",
      "563/563 - 1s - loss: 5.9446 - val_loss: 8.1424\n",
      "Epoch 9/60\n",
      "563/563 - 2s - loss: 5.9658 - val_loss: 3.6950\n",
      "Epoch 10/60\n",
      "563/563 - 1s - loss: 5.0195 - val_loss: 5.1591\n",
      "Epoch 11/60\n",
      "563/563 - 2s - loss: 5.0822 - val_loss: 3.3315\n",
      "Epoch 12/60\n",
      "563/563 - 1s - loss: 4.6827 - val_loss: 4.4187\n",
      "Epoch 13/60\n",
      "563/563 - 1s - loss: 3.8996 - val_loss: 2.7545\n",
      "Epoch 14/60\n",
      "563/563 - 1s - loss: 2.9405 - val_loss: 2.0302\n",
      "Epoch 15/60\n",
      "563/563 - 1s - loss: 3.3103 - val_loss: 7.6101\n",
      "Epoch 16/60\n",
      "563/563 - 2s - loss: 2.4281 - val_loss: 1.2995\n",
      "Epoch 17/60\n",
      "563/563 - 1s - loss: 1.7365 - val_loss: 2.4824\n",
      "Epoch 18/60\n",
      "563/563 - 1s - loss: 2.0495 - val_loss: 1.7188\n",
      "Epoch 19/60\n",
      "563/563 - 1s - loss: 1.3879 - val_loss: 0.5962\n",
      "Epoch 20/60\n",
      "563/563 - 2s - loss: 1.5342 - val_loss: 10.9422\n",
      "Epoch 21/60\n",
      "563/563 - 1s - loss: 1.2809 - val_loss: 1.0639\n",
      "Epoch 22/60\n",
      "563/563 - 1s - loss: 1.2940 - val_loss: 1.0429\n",
      "Epoch 23/60\n",
      "563/563 - 2s - loss: 1.2883 - val_loss: 0.7566\n",
      "Epoch 24/60\n",
      "563/563 - 1s - loss: 1.0072 - val_loss: 0.7750\n",
      "Epoch 25/60\n",
      "563/563 - 1s - loss: 0.7713 - val_loss: 0.3825\n",
      "Epoch 26/60\n",
      "563/563 - 1s - loss: 0.8257 - val_loss: 0.5773\n",
      "Epoch 27/60\n",
      "563/563 - 1s - loss: 0.7288 - val_loss: 0.3571\n",
      "Epoch 28/60\n",
      "563/563 - 1s - loss: 0.6233 - val_loss: 2.6737\n",
      "Epoch 29/60\n",
      "563/563 - 1s - loss: 0.7073 - val_loss: 0.7466\n",
      "Epoch 30/60\n",
      "563/563 - 1s - loss: 0.7970 - val_loss: 0.4821\n",
      "Epoch 31/60\n",
      "563/563 - 1s - loss: 0.6467 - val_loss: 0.5302\n",
      "Epoch 32/60\n",
      "563/563 - 2s - loss: 0.8028 - val_loss: 0.7914\n",
      "Epoch 33/60\n",
      "563/563 - 1s - loss: 0.5898 - val_loss: 0.2248\n",
      "Epoch 34/60\n",
      "563/563 - 2s - loss: 0.7587 - val_loss: 0.4977\n",
      "Epoch 35/60\n",
      "563/563 - 2s - loss: 0.6192 - val_loss: 0.7009\n",
      "Epoch 36/60\n",
      "563/563 - 1s - loss: 0.7164 - val_loss: 0.3226\n",
      "Epoch 37/60\n",
      "563/563 - 1s - loss: 0.6225 - val_loss: 1.8939\n",
      "Epoch 38/60\n",
      "563/563 - 1s - loss: 0.5368 - val_loss: 0.3274\n",
      "Epoch 39/60\n",
      "563/563 - 1s - loss: 0.4626 - val_loss: 0.3625\n",
      "Epoch 40/60\n",
      "563/563 - 1s - loss: 0.5000 - val_loss: 0.9577\n",
      "Epoch 41/60\n",
      "563/563 - 1s - loss: 0.9358 - val_loss: 0.8238\n",
      "Epoch 42/60\n",
      "563/563 - 1s - loss: 0.5304 - val_loss: 0.2868\n",
      "Epoch 43/60\n",
      "563/563 - 1s - loss: 0.5989 - val_loss: 0.7246\n",
      "Epoch 44/60\n",
      "563/563 - 1s - loss: 0.5044 - val_loss: 0.3485\n",
      "Epoch 45/60\n",
      "563/563 - 1s - loss: 0.5441 - val_loss: 0.2815\n",
      "Epoch 46/60\n",
      "563/563 - 1s - loss: 0.5258 - val_loss: 0.4331\n",
      "Epoch 47/60\n",
      "563/563 - 1s - loss: 0.4500 - val_loss: 0.3315\n",
      "Epoch 48/60\n",
      "563/563 - 1s - loss: 0.7126 - val_loss: 1.2848\n",
      "Epoch 49/60\n",
      "563/563 - 2s - loss: 0.4009 - val_loss: 0.7180\n",
      "Epoch 50/60\n",
      "563/563 - 1s - loss: 0.4927 - val_loss: 0.3717\n",
      "Epoch 51/60\n",
      "563/563 - 1s - loss: 0.3563 - val_loss: 0.6085\n",
      "Epoch 52/60\n",
      "563/563 - 1s - loss: 0.3949 - val_loss: 0.2074\n",
      "Epoch 53/60\n",
      "563/563 - 1s - loss: 0.4901 - val_loss: 0.3105\n",
      "Epoch 54/60\n",
      "563/563 - 2s - loss: 0.3703 - val_loss: 0.4769\n",
      "Epoch 55/60\n",
      "563/563 - 2s - loss: 0.4549 - val_loss: 2.2380\n",
      "Epoch 56/60\n",
      "563/563 - 2s - loss: 0.6016 - val_loss: 1.0051\n",
      "Epoch 57/60\n",
      "563/563 - 2s - loss: 0.4065 - val_loss: 0.3460\n",
      "Epoch 58/60\n",
      "563/563 - 2s - loss: 0.3619 - val_loss: 0.1816\n",
      "Epoch 59/60\n",
      "563/563 - 2s - loss: 0.4104 - val_loss: 0.2672\n",
      "Epoch 60/60\n",
      "563/563 - 2s - loss: 0.5240 - val_loss: 0.6261\n"
     ]
    },
    {
     "data": {
      "text/plain": [
       "<keras.callbacks.History at 0x158815210a0>"
      ]
     },
     "execution_count": 333,
     "metadata": {},
     "output_type": "execute_result"
    }
   ],
   "source": [
    "# Training\n",
    "model2.compile(optimizer='adam', loss='mean_squared_error')\n",
    "model2.fit(x_train2, y_train2, validation_split = 0.1, epochs = 60, batch_size = 32, verbose = 2)"
   ]
  },
  {
   "cell_type": "code",
   "execution_count": 337,
   "metadata": {},
   "outputs": [
    {
     "data": {
      "text/plain": [
       "Text(0.5, 0, 'Index')"
      ]
     },
     "execution_count": 337,
     "metadata": {},
     "output_type": "execute_result"
    }
   ],
   "source": [
    "model2.predict(x_test2).flatten()\n",
    "plt.figure(figsize=(15,8))\n",
    "plt.plot(model2.predict(x_test2).flatten() - y_test2)\n",
    "plt.ylabel(\"Difference\")\n",
    "plt.xlabel(\"Index\")"
   ]
  }
 ],
 "metadata": {
  "kernelspec": {
   "display_name": "Python 3",
   "language": "python",
   "name": "python3"
  },
  "language_info": {
   "codemirror_mode": {
    "name": "ipython",
    "version": 3
   },
   "file_extension": ".py",
   "mimetype": "text/x-python",
   "name": "python",
   "nbconvert_exporter": "python",
   "pygments_lexer": "ipython3",
   "version": "3.9.0"
  }
 },
 "nbformat": 4,
 "nbformat_minor": 4
}
